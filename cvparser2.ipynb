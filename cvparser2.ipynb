{
 "cells": [
  {
   "cell_type": "code",
   "execution_count": 6,
   "metadata": {},
   "outputs": [],
   "source": [
    "import pytesseract\n",
    "import cv2\n",
    "import numpy as np"
   ]
  },
  {
   "cell_type": "code",
   "execution_count": 7,
   "metadata": {},
   "outputs": [
    {
     "name": "stdout",
     "output_type": "stream",
     "text": [
      "[1, 2, 3, 4, 5, 6, 7, 8, 9, 10, 11, 12, 13, 14, 15, 16, 17, 18, 19, 20, 21, 22, 23, 24, 25]\n"
     ]
    }
   ],
   "source": [
    "images= [i for i in range(1,26)]\n",
    "print(images)"
   ]
  },
  {
   "cell_type": "code",
   "execution_count": 8,
   "metadata": {},
   "outputs": [],
   "source": [
    "for i in images:\n",
    "    image = cv2.imread('E:/Coding/CVPARSER/Pictures/'+str(i)+ '.png')\n",
    "    \n",
    "    #remove all lines from image\n",
    "    gray = cv2.cvtColor(image,cv2.COLOR_BGR2GRAY)\n",
    "    cv2.imwrite('E:/Coding/CVPARSER/Pictures/Augmented/gray'+str(i)+ '.png',gray)\n",
    "\n",
    "    gray = cv2.bitwise_not(gray)\n",
    "    bw = cv2.adaptiveThreshold(gray, 255, cv2.ADAPTIVE_THRESH_MEAN_C, \\\n",
    "                                cv2.THRESH_BINARY, 15, -2)\n",
    "\n",
    "    cv2.imwrite('E:/Coding/CVPARSER/Pictures/Augmented/binary'+str(i)+ '.png',bw)\n",
    "\n",
    "    horizontal = np.copy(bw)\n",
    "    vertical = np.copy(bw)\n",
    "\n",
    "\n",
    "    #get the horizontal lines\n",
    "    cols = horizontal.shape[1]\n",
    "    horizontal_size = cols // 30\n",
    "    horizontalStructure = cv2.getStructuringElement(cv2.MORPH_RECT, (horizontal_size, 1))\n",
    "    horizontal = cv2.erode(horizontal, horizontalStructure)\n",
    "    horizontal = cv2.dilate(horizontal, horizontalStructure)\n",
    "    \n",
    "    cv2.imwrite('E:/Coding/CVPARSER/Pictures/Augmented/horizontal'+str(i)+ '.png',horizontal)\n",
    "\n",
    "    #get the vertical lines\n",
    "    rows = vertical.shape[0]\n",
    "    verticalsize = rows // 30\n",
    "    verticalStructure = cv2.getStructuringElement(cv2.MORPH_RECT, (1, verticalsize))\n",
    "    vertical = cv2.erode(vertical, verticalStructure)\n",
    "    vertical = cv2.dilate(vertical, verticalStructure)\n",
    "\n",
    "    cv2.imwrite('E:/Coding/CVPARSER/Pictures/Augmented/vertical'+str(i)+ '.png',vertical)\n",
    "\n",
    "\n",
    "    final = bw - vertical - horizontal\n",
    "    final = cv2.bitwise_not(final)\n",
    "\n",
    "    cv2.imwrite('E:/Coding/CVPARSER/Pictures/Augmented/final'+str(i)+ '.png',final)\n",
    "\n",
    "\n",
    "    #get separator locations\n",
    "    linesImg = vertical + horizontal\n",
    "    linesImg = cv2.bitwise_not(linesImg)\n",
    "    edges = cv2.Canny(linesImg, 100, 150)\n",
    "    minLineLength =2\n",
    "    maxLineGap = 4\n",
    "    lines = cv2.HoughLinesP(edges, 1, np.pi / 180, 150, None, 0, 0)\n",
    "\n",
    "    for line in lines:\n",
    "        for x1, y1,x2,y2 in line:\n",
    "            cv2.line(image, (x1, y1), (x2, y2), (50, 50, 50), 7)\n",
    "\n",
    "\n",
    "    cv2.imwrite('E:/Coding/CVPARSER/Pictures/Augmented/lines'+str(i)+ '.png',linesImg)\n",
    "\n",
    "\n",
    "    #get multiple blurs\n",
    "    blursmall = cv2.GaussianBlur(final, (7,5), 1)\n",
    "    cv2.imwrite('E:/Coding/CVPARSER/Pictures/Augmented/blursmall'+str(i)+ '.png',blursmall)\n",
    "\n",
    "    threshsmall = cv2.threshold(blursmall, 0,255 , cv2.THRESH_BINARY_INV + cv2.THRESH_OTSU)[1]\n",
    "    cv2.imwrite('E:/Coding/CVPARSER/Pictures/Augmented/threshsmall'+str(i)+ '.png',threshsmall)\n",
    "\n",
    "    blurmedium = cv2.GaussianBlur(final, (51,51), 2)\n",
    "    cv2.imwrite('E:/Coding/CVPARSER/Pictures/Augmented/blurmedium'+str(i)+ '.png',blurmedium)\n",
    "    threshmedium = cv2.threshold(blurmedium, 0,255 , cv2.THRESH_BINARY_INV + cv2.THRESH_OTSU)[1]\n",
    "    cv2.imwrite('E:/Coding/CVPARSER/Pictures/Augmented/threshmedium'+str(i)+ '.png',threshmedium)\n",
    "\n",
    "    blurlarge = cv2.GaussianBlur(final, (7,7), 20)\n",
    "    cv2.imwrite('E:/Coding/CVPARSER/Pictures/Augmented/blurlarge'+str(i)+ '.png',blurlarge)\n",
    "    threshlarge = cv2.threshold(blurlarge, 0,255 , cv2.THRESH_BINARY_INV + cv2.THRESH_OTSU)[1]\n",
    "    cv2.imwrite('E:/Coding/CVPARSER/Pictures/Augmented/threshlarge'+str(i)+ '.png',threshlarge)\n",
    "\n",
    "    #small\n",
    "    k = cv2.getStructuringElement(cv2.MORPH_RECT, (5,3) )\n",
    "    dilate = cv2.dilate(threshsmall, k , iterations=1)\n",
    "    cv2.imwrite('E:/Coding/CVPARSER/Pictures/Augmented/dilatesmalls'+str(i)+ '.png',dilate)\n",
    "    cnts = cv2.findContours(dilate, cv2.RETR_EXTERNAL, cv2.CHAIN_APPROX_SIMPLE)\n",
    "    cnts= cnts[0] if len(cnts)==2 else cnts[1]\n",
    "    cnts = sorted(cnts, key=lambda x:cv2.boundingRect(x)[0])\n",
    "    #for j in cnts:\n",
    "    #    x,y,w,h = cv2.boundingRect(j)\n",
    "    #    cv2.rectangle(image,(x,y),(x+w,y+h),(255,0,0),2)\n",
    "\n",
    "    \n",
    "    #lines\n",
    "    k = cv2.getStructuringElement(cv2.MORPH_RECT, (70,1) )\n",
    "    dilate = cv2.dilate(threshmedium, k , iterations=1)\n",
    "    cv2.imwrite('E:/Coding/CVPARSER/Pictures/Augmented/dilatemedium'+str(i)+ '1.png',dilate)\n",
    "    cnts = cv2.findContours(dilate, cv2.RETR_EXTERNAL, cv2.CHAIN_APPROX_SIMPLE)\n",
    "    cnts= cnts[0] if len(cnts)==2 else cnts[1]\n",
    "    cnts = sorted(cnts, key=lambda x:cv2.boundingRect(x)[0])\n",
    "    for j in cnts:\n",
    "        x,y,w,h = cv2.boundingRect(j)\n",
    "        cv2.rectangle(image,(x,y),(x+w,y+h),(36,255,12),2)\n",
    "\n",
    "    \n",
    "    #paragraphs\n",
    "    k = cv2.getStructuringElement(cv2.MORPH_RECT, (7,4) )\n",
    "    dilate = cv2.dilate(threshmedium, k , iterations=5)\n",
    "    cv2.imwrite('E:/Coding/CVPARSER/Pictures/Augmented/dilatelarge'+str(i)+ '.png',dilate)\n",
    "    cnts = cv2.findContours(dilate, cv2.RETR_EXTERNAL, cv2.CHAIN_APPROX_SIMPLE)\n",
    "    cnts= cnts[0] if len(cnts)==2 else cnts[1]\n",
    "    cnts = sorted(cnts, key=lambda x:cv2.boundingRect(x)[0])\n",
    "\n",
    "    for j in cnts:\n",
    "        x,y,w,h = cv2.boundingRect(j)\n",
    "        cv2.rectangle(image,(x,y),(x+w,y+h),(0,0,255),2)\n",
    "\n",
    "    cv2.imwrite('E:/Coding/CVPARSER/Pictures/Augmented/image'+ str(i)+ '.png',image)\n",
    "\n",
    "    "
   ]
  },
  {
   "cell_type": "code",
   "execution_count": null,
   "metadata": {},
   "outputs": [],
   "source": []
  },
  {
   "cell_type": "code",
   "execution_count": 103,
   "metadata": {},
   "outputs": [],
   "source": []
  },
  {
   "cell_type": "code",
   "execution_count": null,
   "metadata": {},
   "outputs": [],
   "source": []
  },
  {
   "cell_type": "code",
   "execution_count": null,
   "metadata": {},
   "outputs": [],
   "source": []
  }
 ],
 "metadata": {
  "kernelspec": {
   "display_name": "Python 3.10.4 ('cvparser')",
   "language": "python",
   "name": "python3"
  },
  "language_info": {
   "codemirror_mode": {
    "name": "ipython",
    "version": 3
   },
   "file_extension": ".py",
   "mimetype": "text/x-python",
   "name": "python",
   "nbconvert_exporter": "python",
   "pygments_lexer": "ipython3",
   "version": "3.10.4"
  },
  "orig_nbformat": 4,
  "vscode": {
   "interpreter": {
    "hash": "8fccc676b77abacf37db7dda8b96701eaea0663049549d4f3d8541066caa8ad4"
   }
  }
 },
 "nbformat": 4,
 "nbformat_minor": 2
}
